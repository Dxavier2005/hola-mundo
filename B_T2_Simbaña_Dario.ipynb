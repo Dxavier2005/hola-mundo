{
  "nbformat": 4,
  "nbformat_minor": 0,
  "metadata": {
    "colab": {
      "provenance": [],
      "authorship_tag": "ABX9TyO0s6xxAnIvn8dpLlvaaLd+",
      "include_colab_link": true
    },
    "kernelspec": {
      "name": "python3",
      "display_name": "Python 3"
    },
    "language_info": {
      "name": "python"
    }
  },
  "cells": [
    {
      "cell_type": "markdown",
      "metadata": {
        "id": "view-in-github",
        "colab_type": "text"
      },
      "source": [
        "<a href=\"https://colab.research.google.com/github/Dxavier2005/hola-mundo/blob/main/B_T2_Simba%C3%B1a_Dario.ipynb\" target=\"_parent\"><img src=\"https://colab.research.google.com/assets/colab-badge.svg\" alt=\"Open In Colab\"/></a>"
      ]
    },
    {
      "cell_type": "markdown",
      "source": [
        "Trabajo2 - TIC\n",
        "\n",
        "\n",
        "\n",
        "\n",
        "Hola Mundo : Escribe un programa que imprima \"Hola, Mundo!\" en la pantalla.\n"
      ],
      "metadata": {
        "id": "Zl_DWCzakLnH"
      }
    },
    {
      "cell_type": "code",
      "source": [
        "print('hola mundo')"
      ],
      "metadata": {
        "colab": {
          "base_uri": "https://localhost:8080/"
        },
        "id": "wmGGfNQHklxk",
        "outputId": "d4fd3fee-20a3-4492-a221-1e04acfca62a"
      },
      "execution_count": 6,
      "outputs": [
        {
          "output_type": "stream",
          "name": "stdout",
          "text": [
            "hola mundo\n"
          ]
        }
      ]
    },
    {
      "cell_type": "markdown",
      "source": [
        "**2.Suma de dos números: Escribe un programa que pida al usuario dos números y los sume.**"
      ],
      "metadata": {
        "id": "Tq15GXV1kyQ_"
      }
    },
    {
      "cell_type": "code",
      "source": [
        "numero1 = float(input(\"Por favor, ingresa el primer número: \"))\n",
        "numero2 = float(input(\"Por favor, ingresa el segundo número: \"))\n",
        "suma = numero1 + numero2\n",
        "print(\"La suma de\", numero1, \"y\", numero2, \"es igual a:\", suma)"
      ],
      "metadata": {
        "id": "2Iw-pgRck2Y_"
      },
      "execution_count": null,
      "outputs": []
    },
    {
      "cell_type": "markdown",
      "source": [
        "**3.Par o Impar: Escribe un programa que determine si un número introducido por el usuario es par o impar.**"
      ],
      "metadata": {
        "id": "7lRJMBc1lR3-"
      }
    },
    {
      "cell_type": "code",
      "source": [
        "numero = int(input(\"Por favor, ingresa un número entero: \"))\n",
        "\n",
        "# Comprobar si el número es par o impar\n",
        "if numero % 2 == 0:\n",
        "    print(\"El número ingresado es par.\")\n",
        "else:\n",
        "    print(\"El número ingresado es impar.\")"
      ],
      "metadata": {
        "id": "RygCIWtFlV9W"
      },
      "execution_count": null,
      "outputs": []
    },
    {
      "cell_type": "markdown",
      "source": [
        "**4.Calculadora básica: Escribe un programa que realice operaciones básicas (suma, resta, multiplicación y división) entre dos números introducidos por el usuario.**\n"
      ],
      "metadata": {
        "id": "PO8BJQA0lXmu"
      }
    },
    {
      "cell_type": "code",
      "source": [
        "numero1 = float(input(\"Por favor, ingresa el primer número: \"))\n",
        "numero2 = float(input(\"Por favor, ingresa el segundo número: \"))\n",
        "\n",
        "suma = numero1 + numero2\n",
        "resta = numero1 - numero2\n",
        "multiplicacion = numero1 * numero2\n",
        "if numero2 != 0:\n",
        "    division = numero1 / numero2\n",
        "else:\n",
        "    division = \"No se puede dividir por cero.\"\n",
        "print(\"Suma:\", numero1, \"+\", numero2, \"=\", suma)\n",
        "print(\"Resta:\", numero1, \"-\", numero2, \"=\", resta)\n",
        "print(\"Multiplicación:\", numero1, \"*\", numero2, \"=\", multiplicacion)\n",
        "print(\"División:\", numero1, \"/\", numero2, \"=\", division)"
      ],
      "metadata": {
        "id": "W8XmDWaDldLO"
      },
      "execution_count": null,
      "outputs": []
    },
    {
      "cell_type": "markdown",
      "source": [
        "**5.Número mayor: Escribe un programa que pida tres números al usuario y determine cuál es el mayor.**\n"
      ],
      "metadata": {
        "id": "oDHYuFStld2w"
      }
    },
    {
      "cell_type": "code",
      "source": [
        "print(\"Ingrese tres números para determinar cuál es el mayor.\")\n",
        "num1 = float(input(\"Ingrese el primer número: \"))\n",
        "num2 = float(input(\"Ingrese el segundo número: \"))\n",
        "num3 = float(input(\"Ingrese el tercer número: \"))\n",
        "\n",
        "if num1 >= num2 and num1 >= num3:\n",
        "    print(\"El número mayor es:\", num1)\n",
        "elif num2 >= num1 and num2 >= num3:\n",
        "    print(\"El número mayor es:\", num2)\n",
        "else:\n",
        "    print(\"El número mayor es:\", num3)"
      ],
      "metadata": {
        "id": "WaWtxmkFli-x"
      },
      "execution_count": null,
      "outputs": []
    },
    {
      "cell_type": "markdown",
      "source": [
        "**6.Cálculo del área de un círculo: Escribe un programa que calcule el área de un círculo a partir de su radio, ingresado por el usuario.**"
      ],
      "metadata": {
        "id": "8RT-Bzp1lj_I"
      }
    },
    {
      "cell_type": "code",
      "source": [
        "\n",
        "radio = float(input(\"Ingrese el radio del círculo: \"))\n",
        "\n",
        "area = math.pi * radio ** 2\n",
        "\n",
        "print(\"El área del círculo es:\", area)"
      ],
      "metadata": {
        "id": "3q_YDHNflojR"
      },
      "execution_count": null,
      "outputs": []
    },
    {
      "cell_type": "markdown",
      "source": [
        "**7.Conversión de grados Celsius a Fahrenheit: Escribe un programa que convierta una temperatura dada en grados Celsius a grados Fahrenheit.**\n"
      ],
      "metadata": {
        "id": "ykzPBHJWlpEZ"
      }
    },
    {
      "cell_type": "code",
      "source": [
        "celsius = float(input(\"Ingrese la temperatura en grados Celsius: \"))\n",
        "\n",
        "fahrenheit = (celsius * 9 / 5) + 32\n",
        "\n",
        "print(\"La temperatura en grados Fahrenheit es:\", fahrenheit)"
      ],
      "metadata": {
        "id": "nPQnq5M8lu3r"
      },
      "execution_count": null,
      "outputs": []
    },
    {
      "cell_type": "markdown",
      "source": [
        "**8.Cuenta atrás: Escribe un programa que cuente hacia atrás desde 10 hasta 0.**\n"
      ],
      "metadata": {
        "id": "INMDZP_ylvgE"
      }
    },
    {
      "cell_type": "code",
      "source": [
        "for i in range(10, -1, -1):\n",
        "    print(i)"
      ],
      "metadata": {
        "id": "GAfi2QGDly9M"
      },
      "execution_count": null,
      "outputs": []
    },
    {
      "cell_type": "markdown",
      "source": [
        "**9.Tabla de multiplicar: Escribe un programa que muestre la tabla de multiplicar de un número introducido por el usuario.**"
      ],
      "metadata": {
        "id": "oaso59uglzYO"
      }
    },
    {
      "cell_type": "code",
      "source": [
        "numero = int(input(\"Ingrese un número para ver su tabla de multiplicar: \"))\n",
        "\n",
        "print(\"Tabla de multiplicar del\", numero, \":\")\n",
        "for i in range(1, 11):\n",
        "    resultado = numero * i\n",
        "    print(numero, \"x\", i, \"=\", resultado)"
      ],
      "metadata": {
        "id": "4AiVlpcrl2-b"
      },
      "execution_count": null,
      "outputs": []
    },
    {
      "cell_type": "markdown",
      "source": [
        "**10.Números primos: Escribe un programa que determine si un número introducido por el usuario es primo.**\n",
        "\n",
        "\n",
        "> Add blockquote\n",
        "\n"
      ],
      "metadata": {
        "id": "v6H9D2aBmIb2"
      }
    },
    {
      "cell_type": "code",
      "source": [
        "numero = int(input(\"Ingrese un número para verificar si es primo: \"))\n",
        "\n",
        "if numero > 1:\n",
        "    for i in range(2, numero):\n",
        "        if numero % i == 0:\n",
        "            print(numero, \"no es un número primo.\")\n",
        "            break\n",
        "    else:\n",
        "        print(numero, \"es un número primo.\")\n",
        "else:\n",
        "    print(numero, \"no es un número primo.\")\n"
      ],
      "metadata": {
        "id": "aCvJkhOumJPn"
      },
      "execution_count": null,
      "outputs": []
    },
    {
      "cell_type": "markdown",
      "source": [
        "**11.Sumar números hasta un límite: Escribe un programa que sume todos los números naturales hasta un número límite introducido por el usuario.**\n"
      ],
      "metadata": {
        "id": "3PM0NJHbmVbf"
      }
    },
    {
      "cell_type": "code",
      "source": [
        "limite = int(input(\"Ingrese el número límite para la suma de los números naturales: \"))\n",
        "\n",
        "# Inicializamos la variable para almacenar la suma\n",
        "suma_total = 0\n",
        "\n",
        "# Iteramos desde 1 hasta el límite, sumando cada número al total\n",
        "for i in range(1, limite + 1):\n",
        "    suma_total += i\n",
        "\n",
        "print(\"La suma de los números naturales hasta\", limite, \"es:\", suma_total)"
      ],
      "metadata": {
        "id": "QzTBfX5nmccK"
      },
      "execution_count": null,
      "outputs": []
    },
    {
      "cell_type": "markdown",
      "source": [
        "**12.Invertir una cadena: Escribe un programa que invierta una cadena introducida por el usuario.**\n"
      ],
      "metadata": {
        "id": "bCmgvUUZmf3h"
      }
    },
    {
      "cell_type": "code",
      "source": [
        "cadena = input(\"Ingrese una cadena para invertirla: \")\n",
        "\n",
        "cadena_invertida = cadena[::-1]\n",
        "\n",
        "print(\"La cadena invertida es:\", cadena_invertida)"
      ],
      "metadata": {
        "id": "Tgz_DtFcmkV6"
      },
      "execution_count": null,
      "outputs": []
    },
    {
      "cell_type": "markdown",
      "source": [
        "**13.Contar vocales: Escribe un programa que cuente el número de vocales en una cadena introducida por el usuario.**\n"
      ],
      "metadata": {
        "id": "L80YsPAbo-_e"
      }
    },
    {
      "cell_type": "code",
      "source": [
        "cadena = input(\"Ingrese una cadena para contar el número de vocales: \")\n",
        "\n",
        "# Convertimos la cadena a minúsculas para facilitar la comparación\n",
        "cadena = cadena.lower()\n",
        "\n",
        "# Inicializamos el contador de vocales\n",
        "contador_vocales = 0\n",
        "\n",
        "# Definimos una lista con las vocales\n",
        "vocales = ['a', 'e', 'i', 'o', 'u']\n",
        "\n",
        "# Iteramos sobre cada carácter de la cadena\n",
        "for caracter in cadena:\n",
        "    # Si el carácter es una vocal, incrementamos el contador\n",
        "    if caracter in vocales:\n",
        "        contador_vocales += 1\n",
        "\n",
        "print(\"El número de vocales en la cadena es:\", contador_vocales)"
      ],
      "metadata": {
        "id": "IrWfyq6TpmV2"
      },
      "execution_count": null,
      "outputs": []
    },
    {
      "cell_type": "markdown",
      "source": [
        "**14.Palíndromo: Escribe un programa que determine si una cadena introducida por el usuario es un palíndromo.**\n"
      ],
      "metadata": {
        "id": "RgRgU-qopmon"
      }
    },
    {
      "cell_type": "code",
      "source": [
        "cadena = input(\"Ingrese una cadena para verificar si es un palíndromo: \")\n",
        "\n",
        "cadena = cadena.lower().replace(\" \", \"\")\n",
        "\n",
        "if cadena == cadena[::-1]:\n",
        "    print(\"La cadena es un palíndromo.\")\n",
        "else:\n",
        "    print(\"La cadena no es un palíndromo.\")"
      ],
      "metadata": {
        "id": "RyfHLALTps0o"
      },
      "execution_count": null,
      "outputs": []
    },
    {
      "cell_type": "markdown",
      "source": [
        "**15.Factorial de un número: Escribe un programa que calcule el factorial de un número introducido por el usuario.**\n"
      ],
      "metadata": {
        "id": "4SD1xXMrptU_"
      }
    },
    {
      "cell_type": "code",
      "source": [
        "numero = int(input(\"Ingrese un número para calcular su factorial: \"))\n",
        "\n",
        "factorial = 1\n",
        "\n",
        "for i in range(1, numero + 1):\n",
        "    factorial *= i\n",
        "\n",
        "print(\"El factorial de\", numero, \"es:\", factorial)"
      ],
      "metadata": {
        "id": "wp2XJ3TApzDP"
      },
      "execution_count": null,
      "outputs": []
    },
    {
      "cell_type": "markdown",
      "source": [
        "16.Generar números aleatorios: Escribe un programa que genere y muestre 5 números aleatorios entre 1 y 100."
      ],
      "metadata": {
        "id": "mel7BdG1sFuH"
      }
    },
    {
      "cell_type": "code",
      "source": [
        "import random\n",
        "\n",
        "for _ in range(5):\n",
        "    print(random.randint(1, 100))"
      ],
      "metadata": {
        "id": "5yVzoNUZsNWm"
      },
      "execution_count": null,
      "outputs": []
    },
    {
      "cell_type": "markdown",
      "source": [
        "**17.Calculadora de índice de masa corporal (IMC): Escribe un programa que calcule el índice de masa corporal (IMC) a partir del peso y la altura introducidos por el usuario.**\n"
      ],
      "metadata": {
        "id": "_4vqcso0sZnN"
      }
    },
    {
      "cell_type": "code",
      "source": [
        "peso = float(input(\"Ingrese su peso en kilogramos: \"))\n",
        "altura = float(input(\"Ingrese su altura en metros: \"))\n",
        "\n",
        "imc = peso / (altura ** 2)\n",
        "\n",
        "print(\"Su índice de masa corporal (IMC) es:\", imc)"
      ],
      "metadata": {
        "id": "Jy8pq_chsk1O"
      },
      "execution_count": null,
      "outputs": []
    }
  ]
}