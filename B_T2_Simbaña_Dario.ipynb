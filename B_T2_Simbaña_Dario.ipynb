{
  "nbformat": 4,
  "nbformat_minor": 0,
  "metadata": {
    "colab": {
      "provenance": [],
      "authorship_tag": "ABX9TyM/tgKrA0pCS3phM1keEy48",
      "include_colab_link": true
    },
    "kernelspec": {
      "name": "python3",
      "display_name": "Python 3"
    },
    "language_info": {
      "name": "python"
    }
  },
  "cells": [
    {
      "cell_type": "markdown",
      "metadata": {
        "id": "view-in-github",
        "colab_type": "text"
      },
      "source": [
        "<a href=\"https://colab.research.google.com/github/Dxavier2005/hola-mundo/blob/main/B_T2_Simba%C3%B1a_Dario.ipynb\" target=\"_parent\"><img src=\"https://colab.research.google.com/assets/colab-badge.svg\" alt=\"Open In Colab\"/></a>"
      ]
    },
    {
      "cell_type": "markdown",
      "source": [
        "Trabajo2 - TIC\n",
        "\n",
        "\n",
        "\n",
        "\n",
        "Hola Mundo : Escribe un programa que imprima \"Hola, Mundo!\" en la pantalla.\n"
      ],
      "metadata": {
        "id": "Zl_DWCzakLnH"
      }
    },
    {
      "cell_type": "code",
      "source": [
        "print('hola mundo')"
      ],
      "metadata": {
        "colab": {
          "base_uri": "https://localhost:8080/"
        },
        "id": "wmGGfNQHklxk",
        "outputId": "d4fd3fee-20a3-4492-a221-1e04acfca62a"
      },
      "execution_count": 6,
      "outputs": [
        {
          "output_type": "stream",
          "name": "stdout",
          "text": [
            "hola mundo\n"
          ]
        }
      ]
    },
    {
      "cell_type": "markdown",
      "source": [
        "**2.Suma de dos números: Escribe un programa que pida al usuario dos números y los sume.**"
      ],
      "metadata": {
        "id": "Tq15GXV1kyQ_"
      }
    },
    {
      "cell_type": "code",
      "source": [
        "numero1 = float(input(\"Por favor, ingresa el primer número: \"))\n",
        "numero2 = float(input(\"Por favor, ingresa el segundo número: \"))\n",
        "suma = numero1 + numero2\n",
        "print(\"La suma de\", numero1, \"y\", numero2, \"es igual a:\", suma)"
      ],
      "metadata": {
        "colab": {
          "base_uri": "https://localhost:8080/"
        },
        "id": "2Iw-pgRck2Y_",
        "outputId": "c7b32aa1-004f-45aa-f69d-91c00fdcfb5b"
      },
      "execution_count": 7,
      "outputs": [
        {
          "output_type": "stream",
          "name": "stdout",
          "text": [
            "Por favor, ingresa el primer número: 2\n",
            "Por favor, ingresa el segundo número: 3\n",
            "La suma de 2.0 y 3.0 es igual a: 5.0\n"
          ]
        }
      ]
    },
    {
      "cell_type": "markdown",
      "source": [
        "**3.Par o Impar: Escribe un programa que determine si un número introducido por el usuario es par o impar.**"
      ],
      "metadata": {
        "id": "7lRJMBc1lR3-"
      }
    },
    {
      "cell_type": "code",
      "source": [
        "numero = int(input(\"Por favor, ingresa un número entero: \"))\n",
        "\n",
        "# Comprobar si el número es par o impar\n",
        "if numero % 2 == 0:\n",
        "    print(\"El número ingresado es par.\")\n",
        "else:\n",
        "    print(\"El número ingresado es impar.\")"
      ],
      "metadata": {
        "colab": {
          "base_uri": "https://localhost:8080/"
        },
        "id": "RygCIWtFlV9W",
        "outputId": "6451e165-b1f3-45b3-dbc6-48ceb0a7ca91"
      },
      "execution_count": 8,
      "outputs": [
        {
          "output_type": "stream",
          "name": "stdout",
          "text": [
            "Por favor, ingresa un número entero: 321\n",
            "El número ingresado es impar.\n"
          ]
        }
      ]
    },
    {
      "cell_type": "markdown",
      "source": [
        "**4.Calculadora básica: Escribe un programa que realice operaciones básicas (suma, resta, multiplicación y división) entre dos números introducidos por el usuario.**\n"
      ],
      "metadata": {
        "id": "PO8BJQA0lXmu"
      }
    },
    {
      "cell_type": "code",
      "source": [
        "numero1 = float(input(\"Por favor, ingresa el primer número: \"))\n",
        "numero2 = float(input(\"Por favor, ingresa el segundo número: \"))\n",
        "\n",
        "suma = numero1 + numero2\n",
        "resta = numero1 - numero2\n",
        "multiplicacion = numero1 * numero2\n",
        "if numero2 != 0:\n",
        "    division = numero1 / numero2\n",
        "else:\n",
        "    division = \"No se puede dividir por cero.\"\n",
        "print(\"Suma:\", numero1, \"+\", numero2, \"=\", suma)\n",
        "print(\"Resta:\", numero1, \"-\", numero2, \"=\", resta)\n",
        "print(\"Multiplicación:\", numero1, \"*\", numero2, \"=\", multiplicacion)\n",
        "print(\"División:\", numero1, \"/\", numero2, \"=\", division)"
      ],
      "metadata": {
        "colab": {
          "base_uri": "https://localhost:8080/"
        },
        "id": "W8XmDWaDldLO",
        "outputId": "db388ace-e566-460c-9f79-2378e2ba4f6f"
      },
      "execution_count": 9,
      "outputs": [
        {
          "output_type": "stream",
          "name": "stdout",
          "text": [
            "Por favor, ingresa el primer número: 43\n",
            "Por favor, ingresa el segundo número: 31\n",
            "Suma: 43.0 + 31.0 = 74.0\n",
            "Resta: 43.0 - 31.0 = 12.0\n",
            "Multiplicación: 43.0 * 31.0 = 1333.0\n",
            "División: 43.0 / 31.0 = 1.3870967741935485\n"
          ]
        }
      ]
    },
    {
      "cell_type": "markdown",
      "source": [
        "**5.Número mayor: Escribe un programa que pida tres números al usuario y determine cuál es el mayor.**\n"
      ],
      "metadata": {
        "id": "oDHYuFStld2w"
      }
    },
    {
      "cell_type": "code",
      "source": [
        "print(\"Ingrese tres números para determinar cuál es el mayor.\")\n",
        "num1 = float(input(\"Ingrese el primer número: \"))\n",
        "num2 = float(input(\"Ingrese el segundo número: \"))\n",
        "num3 = float(input(\"Ingrese el tercer número: \"))\n",
        "\n",
        "if num1 >= num2 and num1 >= num3:\n",
        "    print(\"El número mayor es:\", num1)\n",
        "elif num2 >= num1 and num2 >= num3:\n",
        "    print(\"El número mayor es:\", num2)\n",
        "else:\n",
        "    print(\"El número mayor es:\", num3)"
      ],
      "metadata": {
        "colab": {
          "base_uri": "https://localhost:8080/"
        },
        "id": "WaWtxmkFli-x",
        "outputId": "9b960f8c-9351-4c5b-d92d-2638ffc7ea21"
      },
      "execution_count": 10,
      "outputs": [
        {
          "output_type": "stream",
          "name": "stdout",
          "text": [
            "Ingrese tres números para determinar cuál es el mayor.\n",
            "Ingrese el primer número: 65\n",
            "Ingrese el segundo número: 34\n",
            "Ingrese el tercer número: 78\n",
            "El número mayor es: 78.0\n"
          ]
        }
      ]
    },
    {
      "cell_type": "markdown",
      "source": [
        "**6.Cálculo del área de un círculo: Escribe un programa que calcule el área de un círculo a partir de su radio, ingresado por el usuario.**"
      ],
      "metadata": {
        "id": "8RT-Bzp1lj_I"
      }
    },
    {
      "cell_type": "code",
      "source": [
        "\n",
        "radio = float(input(\"Ingrese el radio del círculo: \"))\n",
        "\n",
        "area = math.pi * radio ** 2\n",
        "\n",
        "print(\"El área del círculo es:\", area)"
      ],
      "metadata": {
        "id": "3q_YDHNflojR"
      },
      "execution_count": null,
      "outputs": []
    },
    {
      "cell_type": "markdown",
      "source": [
        "**7.Conversión de grados Celsius a Fahrenheit: Escribe un programa que convierta una temperatura dada en grados Celsius a grados Fahrenheit.**\n"
      ],
      "metadata": {
        "id": "ykzPBHJWlpEZ"
      }
    },
    {
      "cell_type": "code",
      "source": [
        "celsius = float(input(\"Ingrese la temperatura en grados Celsius: \"))\n",
        "\n",
        "fahrenheit = (celsius * 9 / 5) + 32\n",
        "\n",
        "print(\"La temperatura en grados Fahrenheit es:\", fahrenheit)"
      ],
      "metadata": {
        "colab": {
          "base_uri": "https://localhost:8080/"
        },
        "id": "nPQnq5M8lu3r",
        "outputId": "6577109d-3064-468f-9454-0ecc4704d930"
      },
      "execution_count": 11,
      "outputs": [
        {
          "output_type": "stream",
          "name": "stdout",
          "text": [
            "Ingrese la temperatura en grados Celsius: 21\n",
            "La temperatura en grados Fahrenheit es: 69.8\n"
          ]
        }
      ]
    },
    {
      "cell_type": "markdown",
      "source": [
        "**8.Cuenta atrás: Escribe un programa que cuente hacia atrás desde 10 hasta 0.**\n"
      ],
      "metadata": {
        "id": "INMDZP_ylvgE"
      }
    },
    {
      "cell_type": "code",
      "source": [
        "for i in range(10, -1, -1):\n",
        "    print(i)"
      ],
      "metadata": {
        "colab": {
          "base_uri": "https://localhost:8080/"
        },
        "id": "GAfi2QGDly9M",
        "outputId": "fab16adf-ba4a-4ddb-f203-2f3b50ed2bc7"
      },
      "execution_count": 12,
      "outputs": [
        {
          "output_type": "stream",
          "name": "stdout",
          "text": [
            "10\n",
            "9\n",
            "8\n",
            "7\n",
            "6\n",
            "5\n",
            "4\n",
            "3\n",
            "2\n",
            "1\n",
            "0\n"
          ]
        }
      ]
    },
    {
      "cell_type": "markdown",
      "source": [
        "**9.Tabla de multiplicar: Escribe un programa que muestre la tabla de multiplicar de un número introducido por el usuario.**"
      ],
      "metadata": {
        "id": "oaso59uglzYO"
      }
    },
    {
      "cell_type": "code",
      "source": [
        "numero = int(input(\"Ingrese un número para ver su tabla de multiplicar: \"))\n",
        "\n",
        "print(\"Tabla de multiplicar del\", numero, \":\")\n",
        "for i in range(1, 11):\n",
        "    resultado = numero * i\n",
        "    print(numero, \"x\", i, \"=\", resultado)"
      ],
      "metadata": {
        "colab": {
          "base_uri": "https://localhost:8080/"
        },
        "id": "4AiVlpcrl2-b",
        "outputId": "fdf9de65-e8fd-4c42-9d2f-62b9a221bbcb"
      },
      "execution_count": 13,
      "outputs": [
        {
          "output_type": "stream",
          "name": "stdout",
          "text": [
            "Ingrese un número para ver su tabla de multiplicar: 13\n",
            "Tabla de multiplicar del 13 :\n",
            "13 x 1 = 13\n",
            "13 x 2 = 26\n",
            "13 x 3 = 39\n",
            "13 x 4 = 52\n",
            "13 x 5 = 65\n",
            "13 x 6 = 78\n",
            "13 x 7 = 91\n",
            "13 x 8 = 104\n",
            "13 x 9 = 117\n",
            "13 x 10 = 130\n"
          ]
        }
      ]
    },
    {
      "cell_type": "markdown",
      "source": [
        "**10.Números primos: Escribe un programa que determine si un número introducido por el usuario es primo.**\n"
      ],
      "metadata": {
        "id": "v6H9D2aBmIb2"
      }
    },
    {
      "cell_type": "code",
      "source": [
        "numero = int(input(\"Ingrese un número para verificar si es primo: \"))\n",
        "\n",
        "if numero > 1:\n",
        "    for i in range(2, numero):\n",
        "        if numero % i == 0:\n",
        "            print(numero, \"no es un número primo.\")\n",
        "            break\n",
        "    else:\n",
        "        print(numero, \"es un número primo.\")\n",
        "else:\n",
        "    print(numero, \"no es un número primo.\")\n"
      ],
      "metadata": {
        "colab": {
          "base_uri": "https://localhost:8080/"
        },
        "id": "aCvJkhOumJPn",
        "outputId": "80843db7-95e7-422d-e882-2e1c6248b4a7"
      },
      "execution_count": 14,
      "outputs": [
        {
          "output_type": "stream",
          "name": "stdout",
          "text": [
            "Ingrese un número para verificar si es primo: 32\n",
            "32 no es un número primo.\n"
          ]
        }
      ]
    },
    {
      "cell_type": "markdown",
      "source": [
        "**11.Sumar números hasta un límite: Escribe un programa que sume todos los números naturales hasta un número límite introducido por el usuario.**\n"
      ],
      "metadata": {
        "id": "3PM0NJHbmVbf"
      }
    },
    {
      "cell_type": "code",
      "source": [
        "limite = int(input(\"Ingrese el número límite para la suma de los números naturales: \"))\n",
        "\n",
        "# Inicializamos la variable para almacenar la suma\n",
        "suma_total = 0\n",
        "\n",
        "# Iteramos desde 1 hasta el límite, sumando cada número al total\n",
        "for i in range(1, limite + 1):\n",
        "    suma_total += i\n",
        "\n",
        "print(\"La suma de los números naturales hasta\", limite, \"es:\", suma_total)"
      ],
      "metadata": {
        "colab": {
          "base_uri": "https://localhost:8080/"
        },
        "id": "QzTBfX5nmccK",
        "outputId": "2ef96201-cc76-4136-95b5-0ded6bdd7dfd"
      },
      "execution_count": 16,
      "outputs": [
        {
          "output_type": "stream",
          "name": "stdout",
          "text": [
            "Ingrese el número límite para la suma de los números naturales: 90\n",
            "La suma de los números naturales hasta 90 es: 4095\n"
          ]
        }
      ]
    },
    {
      "cell_type": "markdown",
      "source": [
        "**12.Invertir una cadena: Escribe un programa que invierta una cadena introducida por el usuario.**\n"
      ],
      "metadata": {
        "id": "bCmgvUUZmf3h"
      }
    },
    {
      "cell_type": "code",
      "source": [
        "cadena = input(\"Ingrese una cadena para invertirla: \")\n",
        "\n",
        "cadena_invertida = cadena[::-1]\n",
        "\n",
        "print(\"La cadena invertida es:\", cadena_invertida)"
      ],
      "metadata": {
        "colab": {
          "base_uri": "https://localhost:8080/"
        },
        "id": "Tgz_DtFcmkV6",
        "outputId": "ba49580d-f13e-4422-8840-1e355f25e4c0"
      },
      "execution_count": 17,
      "outputs": [
        {
          "output_type": "stream",
          "name": "stdout",
          "text": [
            "Ingrese una cadena para invertirla: hola mundo\n",
            "La cadena invertida es: odnum aloh\n"
          ]
        }
      ]
    },
    {
      "cell_type": "markdown",
      "source": [
        "**13.Contar vocales: Escribe un programa que cuente el número de vocales en una cadena introducida por el usuario.**\n"
      ],
      "metadata": {
        "id": "L80YsPAbo-_e"
      }
    },
    {
      "cell_type": "code",
      "source": [
        "cadena = input(\"Ingrese una cadena para contar el número de vocales: \").lower()\n",
        "\n",
        "contador = sum(1 for letra in cadena if letra in 'aeiou')\n",
        "\n",
        "print(\"El número de vocales en la cadena es:\", contador)"
      ],
      "metadata": {
        "colab": {
          "base_uri": "https://localhost:8080/"
        },
        "id": "IrWfyq6TpmV2",
        "outputId": "dccf7382-541a-45da-de60-afaeeb0a8b48"
      },
      "execution_count": 18,
      "outputs": [
        {
          "output_type": "stream",
          "name": "stdout",
          "text": [
            "Ingrese una cadena para contar el número de vocales: tecnologìa\n",
            "El número de vocales en la cadena es: 4\n"
          ]
        }
      ]
    },
    {
      "cell_type": "markdown",
      "source": [
        "**14.Palíndromo: Escribe un programa que determine si una cadena introducida por el usuario es un palíndromo.**\n"
      ],
      "metadata": {
        "id": "RgRgU-qopmon"
      }
    },
    {
      "cell_type": "code",
      "source": [
        "cadena = input(\"Ingrese una cadena para verificar si es un palíndromo: \")\n",
        "\n",
        "cadena = cadena.lower().replace(\" \", \"\")\n",
        "\n",
        "if cadena == cadena[::-1]:\n",
        "    print(\"La cadena es un palíndromo.\")\n",
        "else:\n",
        "    print(\"La cadena no es un palíndromo.\")"
      ],
      "metadata": {
        "colab": {
          "base_uri": "https://localhost:8080/"
        },
        "id": "RyfHLALTps0o",
        "outputId": "b0d59f1d-26bd-43d1-e603-3e7f46d875a5"
      },
      "execution_count": 19,
      "outputs": [
        {
          "output_type": "stream",
          "name": "stdout",
          "text": [
            "Ingrese una cadena para verificar si es un palíndromo: el arroz\n",
            "La cadena no es un palíndromo.\n"
          ]
        }
      ]
    },
    {
      "cell_type": "markdown",
      "source": [
        "**15.Factorial de un número: Escribe un programa que calcule el factorial de un número introducido por el usuario.**\n"
      ],
      "metadata": {
        "id": "4SD1xXMrptU_"
      }
    },
    {
      "cell_type": "code",
      "source": [
        "numero = int(input(\"Ingrese un número para calcular su factorial: \"))\n",
        "\n",
        "factorial = 1\n",
        "\n",
        "for i in range(1, numero + 1):\n",
        "    factorial *= i\n",
        "\n",
        "print(\"El factorial de\", numero, \"es:\", factorial)"
      ],
      "metadata": {
        "colab": {
          "base_uri": "https://localhost:8080/"
        },
        "id": "wp2XJ3TApzDP",
        "outputId": "b0bb877d-222a-4e50-901f-d5a351f465c3"
      },
      "execution_count": 20,
      "outputs": [
        {
          "output_type": "stream",
          "name": "stdout",
          "text": [
            "Ingrese un número para calcular su factorial: 321\n",
            "El factorial de 321 es: 6792691744573800470287851701859191869473079153788737947175048348000566996201075565883634067117697871971951788620081790897833975117872915098411594472966982434784667390565661825534997069369223181107508369736925738136722506332041830092581043853551806637709746119945430430888089110650345057107426224932943371803396277440074116196619232116926339614128696341204992520108400256503261237155571285404597604616847357620275685214063161701206402885960985439459427543149541465184526566990650415696495063334653541359881356653476671738544347224622640956514758437414180328510235242923530479206058818535424000000000000000000000000000000000000000000000000000000000000000000000000000000\n"
          ]
        }
      ]
    },
    {
      "cell_type": "markdown",
      "source": [
        "16.Generar números aleatorios: Escribe un programa que genere y muestre 5 números aleatorios entre 1 y 100."
      ],
      "metadata": {
        "id": "mel7BdG1sFuH"
      }
    },
    {
      "cell_type": "code",
      "source": [
        "import random\n",
        "\n",
        "for _ in range(5):\n",
        "    print(random.randint(1, 100))"
      ],
      "metadata": {
        "colab": {
          "base_uri": "https://localhost:8080/"
        },
        "id": "5yVzoNUZsNWm",
        "outputId": "bf6b5992-3de4-48b8-c9a2-909b849a473c"
      },
      "execution_count": 21,
      "outputs": [
        {
          "output_type": "stream",
          "name": "stdout",
          "text": [
            "26\n",
            "96\n",
            "56\n",
            "9\n",
            "77\n"
          ]
        }
      ]
    },
    {
      "cell_type": "markdown",
      "source": [
        "**17.Calculadora de índice de masa corporal (IMC): Escribe un programa que calcule el índice de masa corporal (IMC) a partir del peso y la altura introducidos por el usuario.**\n"
      ],
      "metadata": {
        "id": "_4vqcso0sZnN"
      }
    },
    {
      "cell_type": "code",
      "source": [
        "peso = float(input(\"Ingrese su peso en kilogramos: \"))\n",
        "altura = float(input(\"Ingrese su altura en metros: \"))\n",
        "\n",
        "imc = peso / (altura ** 2)\n",
        "\n",
        "print(\"Su índice de masa corporal (IMC) es:\", imc)"
      ],
      "metadata": {
        "colab": {
          "base_uri": "https://localhost:8080/"
        },
        "id": "Jy8pq_chsk1O",
        "outputId": "4351be3a-2154-440b-bbd7-9585cce9b325"
      },
      "execution_count": 22,
      "outputs": [
        {
          "output_type": "stream",
          "name": "stdout",
          "text": [
            "Ingrese su peso en kilogramos: 65\n",
            "Ingrese su altura en metros: 1.66\n",
            "Su índice de masa corporal (IMC) es: 23.588329220496444\n"
          ]
        }
      ]
    }
  ]
}